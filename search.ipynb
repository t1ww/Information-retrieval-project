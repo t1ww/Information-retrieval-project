{
 "cells": [
  {
   "cell_type": "markdown",
   "metadata": {},
   "source": [
    "# Food Recipe Browser Project\n",
    "\n",
    "By `652115013 Narongchai Rongthong`"
   ]
  },
  {
   "cell_type": "markdown",
   "metadata": {},
   "source": [
    "Firstly we load the data from parquet file provided"
   ]
  },
  {
   "cell_type": "code",
   "execution_count": 43,
   "metadata": {},
   "outputs": [
    {
     "name": "stdout",
     "output_type": "stream",
     "text": [
      "Loaded 522517 recipes.\n"
     ]
    }
   ],
   "source": [
    "import pandas as pd\n",
    "\n",
    "# Load recipe data from Parquet\n",
    "recipes_df = pd.read_parquet('resource/recipes.parquet')\n",
    "print(f\"Loaded {len(recipes_df)} recipes.\")"
   ]
  },
  {
   "cell_type": "code",
   "execution_count": 44,
   "metadata": {},
   "outputs": [
    {
     "name": "stdout",
     "output_type": "stream",
     "text": [
      "Connected to Elasticsearch\n"
     ]
    }
   ],
   "source": [
    "from elasticsearch import Elasticsearch\n",
    "\n",
    "es_client = Elasticsearch(\n",
    "    \"https://localhost:9200\",\n",
    "    basic_auth=(\"elastic\", \"_Z9BSk2zcMuFD=-1LlAX\"),\n",
    "    ca_certs=\"~/http_ca.crt\"\n",
    ")\n",
    "\n",
    "if es_client.ping():\n",
    "    print(\"Connected to Elasticsearch\")\n",
    "else:\n",
    "    print(\"Elasticsearch connection failed\")"
   ]
  },
  {
   "cell_type": "markdown",
   "metadata": {},
   "source": [
    "Then we can start indexing the data"
   ]
  },
  {
   "cell_type": "code",
   "execution_count": null,
   "metadata": {},
   "outputs": [
    {
     "name": "stderr",
     "output_type": "stream",
     "text": [
      "C:\\Users\\Admin\\AppData\\Local\\Temp\\ipykernel_7384\\3901406246.py:10: DeprecationWarning: Passing transport options in the API method is deprecated. Use 'Elasticsearch.options()' instead.\n",
      "  es_client.indices.delete(index=index_name, ignore=[400, 404])\n"
     ]
    },
    {
     "name": "stdout",
     "output_type": "stream",
     "text": [
      "Created index: recipes\n"
     ]
    },
    {
     "ename": "TypeError",
     "evalue": "sequence item 0: expected str instance, NoneType found",
     "output_type": "error",
     "traceback": [
      "\u001b[1;31m---------------------------------------------------------------------------\u001b[0m",
      "\u001b[1;31mTypeError\u001b[0m                                 Traceback (most recent call last)",
      "Cell \u001b[1;32mIn[45], line 136\u001b[0m\n\u001b[0;32m    132\u001b[0m         \u001b[38;5;28;01myield\u001b[39;00m doc\n\u001b[0;32m    135\u001b[0m \u001b[38;5;66;03m# Bulk index the sample documents\u001b[39;00m\n\u001b[1;32m--> 136\u001b[0m \u001b[43mbulk\u001b[49m\u001b[43m(\u001b[49m\u001b[43mes_client\u001b[49m\u001b[43m,\u001b[49m\u001b[43m \u001b[49m\u001b[43mgenerate_docs\u001b[49m\u001b[43m(\u001b[49m\u001b[43mrecipes_sample\u001b[49m\u001b[43m)\u001b[49m\u001b[43m)\u001b[49m\n\u001b[0;32m    138\u001b[0m \u001b[38;5;28mprint\u001b[39m(\u001b[38;5;124mf\u001b[39m\u001b[38;5;124m\"\u001b[39m\u001b[38;5;124mIndexed \u001b[39m\u001b[38;5;132;01m{\u001b[39;00m\u001b[38;5;28mlen\u001b[39m(recipes_sample)\u001b[38;5;132;01m}\u001b[39;00m\u001b[38;5;124m recipes into Elasticsearch.\u001b[39m\u001b[38;5;124m\"\u001b[39m)\n",
      "File \u001b[1;32mc:\\Users\\Admin\\anaconda3\\envs\\SE-IR\\Lib\\site-packages\\elasticsearch\\helpers\\actions.py:540\u001b[0m, in \u001b[0;36mbulk\u001b[1;34m(client, actions, stats_only, ignore_status, *args, **kwargs)\u001b[0m\n\u001b[0;32m    538\u001b[0m \u001b[38;5;66;03m# make streaming_bulk yield successful results so we can count them\u001b[39;00m\n\u001b[0;32m    539\u001b[0m kwargs[\u001b[38;5;124m\"\u001b[39m\u001b[38;5;124myield_ok\u001b[39m\u001b[38;5;124m\"\u001b[39m] \u001b[38;5;241m=\u001b[39m \u001b[38;5;28;01mTrue\u001b[39;00m\n\u001b[1;32m--> 540\u001b[0m \u001b[38;5;28;01mfor\u001b[39;00m ok, item \u001b[38;5;129;01min\u001b[39;00m streaming_bulk(\n\u001b[0;32m    541\u001b[0m     client, actions, ignore_status\u001b[38;5;241m=\u001b[39mignore_status, span_name\u001b[38;5;241m=\u001b[39m\u001b[38;5;124m\"\u001b[39m\u001b[38;5;124mhelpers.bulk\u001b[39m\u001b[38;5;124m\"\u001b[39m, \u001b[38;5;241m*\u001b[39margs, \u001b[38;5;241m*\u001b[39m\u001b[38;5;241m*\u001b[39mkwargs  \u001b[38;5;66;03m# type: ignore[misc]\u001b[39;00m\n\u001b[0;32m    542\u001b[0m ):\n\u001b[0;32m    543\u001b[0m     \u001b[38;5;66;03m# go through request-response pairs and detect failures\u001b[39;00m\n\u001b[0;32m    544\u001b[0m     \u001b[38;5;28;01mif\u001b[39;00m \u001b[38;5;129;01mnot\u001b[39;00m ok:\n\u001b[0;32m    545\u001b[0m         \u001b[38;5;28;01mif\u001b[39;00m \u001b[38;5;129;01mnot\u001b[39;00m stats_only:\n",
      "File \u001b[1;32mc:\\Users\\Admin\\anaconda3\\envs\\SE-IR\\Lib\\site-packages\\elasticsearch\\helpers\\actions.py:435\u001b[0m, in \u001b[0;36mstreaming_bulk\u001b[1;34m(client, actions, chunk_size, max_chunk_bytes, raise_on_error, expand_action_callback, raise_on_exception, max_retries, initial_backoff, max_backoff, yield_ok, ignore_status, retry_on_status, span_name, *args, **kwargs)\u001b[0m\n\u001b[0;32m    428\u001b[0m bulk_data: List[\n\u001b[0;32m    429\u001b[0m     Union[\n\u001b[0;32m    430\u001b[0m         Tuple[_TYPE_BULK_ACTION_HEADER],\n\u001b[0;32m    431\u001b[0m         Tuple[_TYPE_BULK_ACTION_HEADER, _TYPE_BULK_ACTION_BODY],\n\u001b[0;32m    432\u001b[0m     ]\n\u001b[0;32m    433\u001b[0m ]\n\u001b[0;32m    434\u001b[0m bulk_actions: List[\u001b[38;5;28mbytes\u001b[39m]\n\u001b[1;32m--> 435\u001b[0m \u001b[38;5;28;01mfor\u001b[39;00m bulk_data, bulk_actions \u001b[38;5;129;01min\u001b[39;00m _chunk_actions(\n\u001b[0;32m    436\u001b[0m     \u001b[38;5;28mmap\u001b[39m(expand_action_callback, actions),\n\u001b[0;32m    437\u001b[0m     chunk_size,\n\u001b[0;32m    438\u001b[0m     max_chunk_bytes,\n\u001b[0;32m    439\u001b[0m     serializer,\n\u001b[0;32m    440\u001b[0m ):\n\u001b[0;32m    441\u001b[0m     \u001b[38;5;28;01mfor\u001b[39;00m attempt \u001b[38;5;129;01min\u001b[39;00m \u001b[38;5;28mrange\u001b[39m(max_retries \u001b[38;5;241m+\u001b[39m \u001b[38;5;241m1\u001b[39m):\n\u001b[0;32m    442\u001b[0m         to_retry: List[\u001b[38;5;28mbytes\u001b[39m] \u001b[38;5;241m=\u001b[39m []\n",
      "File \u001b[1;32mc:\\Users\\Admin\\anaconda3\\envs\\SE-IR\\Lib\\site-packages\\elasticsearch\\helpers\\actions.py:234\u001b[0m, in \u001b[0;36m_chunk_actions\u001b[1;34m(actions, chunk_size, max_chunk_bytes, serializer)\u001b[0m\n\u001b[0;32m    227\u001b[0m \u001b[38;5;250m\u001b[39m\u001b[38;5;124;03m\"\"\"\u001b[39;00m\n\u001b[0;32m    228\u001b[0m \u001b[38;5;124;03mSplit actions into chunks by number or size, serialize them into strings in\u001b[39;00m\n\u001b[0;32m    229\u001b[0m \u001b[38;5;124;03mthe process.\u001b[39;00m\n\u001b[0;32m    230\u001b[0m \u001b[38;5;124;03m\"\"\"\u001b[39;00m\n\u001b[0;32m    231\u001b[0m chunker \u001b[38;5;241m=\u001b[39m _ActionChunker(\n\u001b[0;32m    232\u001b[0m     chunk_size\u001b[38;5;241m=\u001b[39mchunk_size, max_chunk_bytes\u001b[38;5;241m=\u001b[39mmax_chunk_bytes, serializer\u001b[38;5;241m=\u001b[39mserializer\n\u001b[0;32m    233\u001b[0m )\n\u001b[1;32m--> 234\u001b[0m \u001b[38;5;28;01mfor\u001b[39;00m action, data \u001b[38;5;129;01min\u001b[39;00m actions:\n\u001b[0;32m    235\u001b[0m     ret \u001b[38;5;241m=\u001b[39m chunker\u001b[38;5;241m.\u001b[39mfeed(action, data)\n\u001b[0;32m    236\u001b[0m     \u001b[38;5;28;01mif\u001b[39;00m ret:\n",
      "Cell \u001b[1;32mIn[45], line 80\u001b[0m, in \u001b[0;36mgenerate_docs\u001b[1;34m(df)\u001b[0m\n\u001b[0;32m     78\u001b[0m description \u001b[38;5;241m=\u001b[39m row\u001b[38;5;241m.\u001b[39mget(\u001b[38;5;124m'\u001b[39m\u001b[38;5;124mDescription\u001b[39m\u001b[38;5;124m'\u001b[39m, \u001b[38;5;124m'\u001b[39m\u001b[38;5;124m'\u001b[39m)\n\u001b[0;32m     79\u001b[0m recipe_category \u001b[38;5;241m=\u001b[39m row\u001b[38;5;241m.\u001b[39mget(\u001b[38;5;124m'\u001b[39m\u001b[38;5;124mRecipeCategory\u001b[39m\u001b[38;5;124m'\u001b[39m, \u001b[38;5;124m'\u001b[39m\u001b[38;5;124m'\u001b[39m)\n\u001b[1;32m---> 80\u001b[0m keywords \u001b[38;5;241m=\u001b[39m \u001b[38;5;124;43m\"\u001b[39;49m\u001b[38;5;124;43m \u001b[39;49m\u001b[38;5;124;43m\"\u001b[39;49m\u001b[38;5;241;43m.\u001b[39;49m\u001b[43mjoin\u001b[49m\u001b[43m(\u001b[49m\u001b[43mrow\u001b[49m\u001b[38;5;241;43m.\u001b[39;49m\u001b[43mget\u001b[49m\u001b[43m(\u001b[49m\u001b[38;5;124;43m'\u001b[39;49m\u001b[38;5;124;43mKeywords\u001b[39;49m\u001b[38;5;124;43m'\u001b[39;49m\u001b[43m,\u001b[49m\u001b[43m \u001b[49m\u001b[43m[\u001b[49m\u001b[43m]\u001b[49m\u001b[43m)\u001b[49m\u001b[43m)\u001b[49m\n\u001b[0;32m     81\u001b[0m recipe_ingredient_quantities \u001b[38;5;241m=\u001b[39m row\u001b[38;5;241m.\u001b[39mget(\u001b[38;5;124m'\u001b[39m\u001b[38;5;124mRecipeIngredientQuantities\u001b[39m\u001b[38;5;124m'\u001b[39m, [])\n\u001b[0;32m     82\u001b[0m aggregated_rating \u001b[38;5;241m=\u001b[39m row\u001b[38;5;241m.\u001b[39mget(\u001b[38;5;124m'\u001b[39m\u001b[38;5;124mAggregatedRating\u001b[39m\u001b[38;5;124m'\u001b[39m, \u001b[38;5;241m0.0\u001b[39m)\n",
      "\u001b[1;31mTypeError\u001b[0m: sequence item 0: expected str instance, NoneType found"
     ]
    }
   ],
   "source": [
    "import json\n",
    "import numpy as np\n",
    "from elasticsearch.helpers import bulk\n",
    "\n",
    "# Define index name and sample size for development\n",
    "index_name = \"recipes\"\n",
    "sample_size = 100  # Set the sample size for testing (adjust as needed)\n",
    "\n",
    "# Delete the index if it already exists\n",
    "es_client.indices.delete(index=index_name, ignore=[400, 404])\n",
    "\n",
    "# Create the index with a mapping that uses an English analyzer\n",
    "mapping = {\n",
    "    \"settings\": {\n",
    "        \"analysis\": {\n",
    "            \"analyzer\": {\n",
    "                \"default\": {\n",
    "                    \"type\": \"english\"\n",
    "                }\n",
    "            }\n",
    "        }\n",
    "    },\n",
    "    \"mappings\": {\n",
    "        \"properties\": {\n",
    "            \"recipe_id\": {\"type\": \"keyword\"},\n",
    "            \"name\": {\"type\": \"text\", \"analyzer\": \"english\"},\n",
    "            \"ingredients\": {\"type\": \"text\", \"analyzer\": \"english\"},\n",
    "            \"instructions\": {\"type\": \"text\", \"analyzer\": \"english\"},\n",
    "            \"full_text\": {\"type\": \"text\", \"analyzer\": \"english\"},\n",
    "            \"image_url\": {\"type\": \"keyword\"}\n",
    "        }\n",
    "    }\n",
    "}\n",
    "\n",
    "# Create the index\n",
    "es_client.indices.create(index=index_name, body=mapping)\n",
    "print(f\"Created index: {index_name}\")\n",
    "\n",
    "# Get a sample of the recipes for development (you can adjust sample size)\n",
    "recipes_sample = recipes_df.head(sample_size)\n",
    "\n",
    "# Prepare the documents for bulk indexing\n",
    "def generate_docs(df):\n",
    "    for idx, row in df.iterrows():\n",
    "        recipe_id = str(int(float(row.get('RecipeId', idx))))  # Ensures it's always an integer string\n",
    "        name = row.get('Name', '')\n",
    "        ingredients = \" \".join(row.get('RecipeIngredientParts', []))\n",
    "        instructions = \" \".join(row.get('RecipeInstructions', []))\n",
    "        full_text = \" \".join([name, ingredients, instructions])\n",
    "        image_url = row.get('ImageUrl', '')  # Adjust if your data contains image URLs\n",
    "        \n",
    "        doc = {\n",
    "            \"_op_type\": \"index\",\n",
    "            \"_index\": index_name,\n",
    "            \"_id\": recipe_id,\n",
    "            \"_source\": {\n",
    "                \"recipe_id\": recipe_id,\n",
    "                \"name\": name,\n",
    "                \"ingredients\": ingredients,\n",
    "                \"instructions\": instructions,\n",
    "                \"full_text\": full_text,\n",
    "                \"image_url\": image_url\n",
    "            }\n",
    "        }\n",
    "        yield doc\n",
    "\n",
    "# Bulk index the sample documents\n",
    "bulk(es_client, generate_docs(recipes_sample))\n",
    "\n",
    "print(f\"Indexed {len(recipes_sample)} recipes into Elasticsearch.\")\n"
   ]
  },
  {
   "cell_type": "markdown",
   "metadata": {},
   "source": [
    "Create user system for token and tracking for recommendations"
   ]
  },
  {
   "cell_type": "code",
   "execution_count": null,
   "metadata": {},
   "outputs": [
    {
     "name": "stdout",
     "output_type": "stream",
     "text": [
      "Initialized dummy user authentication and storage.\n"
     ]
    }
   ],
   "source": [
    "# --- Dummy User & In-Memory Data for Auth, Bookmarks, and Folders ---\n",
    "\n",
    "# Dummy user database (for UC-001: Authentication)\n",
    "users = {\n",
    "    \"user1\": \"password1\",\n",
    "    \"user2\": \"password2\"\n",
    "}\n",
    "\n",
    "# In-memory storage\n",
    "sessions = {}  # token -> username\n",
    "user_bookmarks = {}  # username -> list of {recipe_id, rating}\n",
    "user_folders = {}   # username -> {folder_name: [recipe_ids]}\n",
    "\n",
    "import uuid\n",
    "\n",
    "def generate_token():\n",
    "    return str(uuid.uuid4())\n",
    "\n",
    "print(\"Initialized dummy user authentication and storage.\")"
   ]
  },
  {
   "cell_type": "markdown",
   "metadata": {},
   "source": [
    "Create flask app to expose api"
   ]
  },
  {
   "cell_type": "code",
   "execution_count": null,
   "metadata": {},
   "outputs": [
    {
     "name": "stdout",
     "output_type": "stream",
     "text": [
      "Flask API endpoints defined.\n"
     ]
    }
   ],
   "source": [
    "# --- Flask API Endpoints ---\n",
    "from flask import Flask, request, jsonify\n",
    "import random\n",
    "from flask_cors import CORS\n",
    "\n",
    "app = Flask(__name__)\n",
    "CORS(app)  # Allows all origins (for development)\n",
    "\n",
    "# Development mode token\n",
    "DEV_TOKEN = \"dev\"  # Change this to something unique\n",
    "\n",
    "def generate_token():\n",
    "    return str(random.randint(100000, 999999))\n",
    "\n",
    "# UC-001: User Authentication\n",
    "@app.route('/login', methods=['POST'])\n",
    "def login():\n",
    "    data = request.get_json()\n",
    "    username = data.get(\"username\")\n",
    "    password = data.get(\"password\")\n",
    "    if username in users and users[username] == password:\n",
    "        token = generate_token()\n",
    "        sessions[token] = username\n",
    "        return jsonify({\"message\": \"Login successful\", \"token\": token})\n",
    "    return jsonify({\"message\": \"Invalid credentials\"}), 401\n",
    "\n",
    "@app.route('/logout', methods=['POST'])\n",
    "def logout():\n",
    "    token = request.headers.get(\"Authorization\")\n",
    "    if token in sessions:\n",
    "        sessions.pop(token)\n",
    "        return jsonify({\"message\": \"Logout successful\"})\n",
    "    return jsonify({\"message\": \"Invalid token\"}), 401\n",
    "\n",
    "# Helper function to check authentication\n",
    "def is_authenticated(request):\n",
    "    token = request.headers.get(\"Authorization\")\n",
    "    return token == DEV_TOKEN or token in sessions\n",
    "\n",
    "# UC-002 & UC-003: Recipe Search Functionality & Display Results\n",
    "@app.route('/search', methods=['GET'])\n",
    "def search():\n",
    "    if not is_authenticated(request):\n",
    "        return jsonify({\"message\": \"Unauthorized\"}), 401\n",
    "    query = request.args.get(\"query\", \"\")\n",
    "    res = es_client.search(index=index_name, body={\n",
    "        \"query\": {\n",
    "            \"multi_match\": {\n",
    "                \"query\": query,\n",
    "                \"fields\": [\"name\", \"ingredients\", \"instructions\", \"full_text\"]\n",
    "            }\n",
    "        }\n",
    "    })\n",
    "    hits = res[\"hits\"][\"hits\"]\n",
    "    results = [\n",
    "        {\n",
    "            \"recipe_id\": hit[\"_source\"][\"recipe_id\"],\n",
    "            \"name\": hit[\"_source\"][\"name\"],\n",
    "            \"snippet\": hit[\"_source\"][\"full_text\"][:150],\n",
    "            \"image_url\": hit[\"_source\"].get(\"image_url\", \"\")\n",
    "        } for hit in hits\n",
    "    ]\n",
    "    return jsonify({\"results\": results})\n",
    "\n",
    "# UC-004: Detailed Dish Information\n",
    "@app.route('/recipe/<recipe_id>', methods=['GET'])\n",
    "def recipe_detail(recipe_id):\n",
    "    if not is_authenticated(request):\n",
    "        return jsonify({\"message\": \"Unauthorized\"}), 401\n",
    "    res = es_client.get(index=index_name, id=recipe_id)\n",
    "    result = res[\"_source\"]\n",
    "    return jsonify(result)\n",
    "\n",
    "# UC-006: Bookmarking and Rating\n",
    "@app.route('/bookmark', methods=['POST'])\n",
    "def bookmark():\n",
    "    if not is_authenticated(request):\n",
    "        return jsonify({\"message\": \"Unauthorized\"}), 401\n",
    "    data = request.get_json()\n",
    "    recipe_id = data.get(\"recipe_id\")\n",
    "    rating = data.get(\"rating\")\n",
    "    username = sessions.get(request.headers.get(\"Authorization\"), \"dev_user\")\n",
    "    user_bookmarks.setdefault(username, []).append({\"recipe_id\": recipe_id, \"rating\": rating})\n",
    "    return jsonify({\"message\": \"Bookmarked successfully\"})\n",
    "\n",
    "# UC-005: Folder Management\n",
    "@app.route('/folders', methods=['GET', 'POST'])\n",
    "def folders():\n",
    "    if not is_authenticated(request):\n",
    "        return jsonify({\"message\": \"Unauthorized\"}), 401\n",
    "    username = sessions.get(request.headers.get(\"Authorization\"), \"dev_user\")\n",
    "    if request.method == 'GET':\n",
    "        return jsonify(user_folders.get(username, {}))\n",
    "    elif request.method == 'POST':\n",
    "        data = request.get_json()\n",
    "        folder_name = data.get(\"folder_name\")\n",
    "        user_folders.setdefault(username, {})[folder_name] = []\n",
    "        return jsonify({\"message\": f\"Folder '{folder_name}' created\"})\n",
    "\n",
    "# UC-007: Personalized Recommendations (dummy implementation)\n",
    "@app.route('/recommendations', methods=['GET'])\n",
    "def recommendations():\n",
    "    if not is_authenticated(request):\n",
    "        return jsonify({\"message\": \"Unauthorized\"}), 401\n",
    "    res = es_client.search(index=index_name, body={\n",
    "        \"query\": {\"match_all\": {}},\n",
    "        \"size\": 5\n",
    "    })\n",
    "    hits = res[\"hits\"][\"hits\"]\n",
    "    recs = [\n",
    "        {\n",
    "            \"recipe_id\": hit[\"_source\"][\"recipe_id\"],\n",
    "            \"name\": hit[\"_source\"][\"name\"],\n",
    "            \"snippet\": hit[\"_source\"][\"full_text\"][:150],\n",
    "            \"image_url\": hit[\"_source\"].get(\"image_url\", \"\")\n",
    "        } for hit in hits\n",
    "    ]\n",
    "    return jsonify({\"recommendations\": recs})\n",
    "\n",
    "print(\"Flask API endpoints defined.\")\n"
   ]
  },
  {
   "cell_type": "code",
   "execution_count": null,
   "metadata": {},
   "outputs": [
    {
     "name": "stdout",
     "output_type": "stream",
     "text": [
      " * Serving Flask app '__main__'\n",
      " * Debug mode: off\n"
     ]
    },
    {
     "name": "stderr",
     "output_type": "stream",
     "text": [
      "WARNING: This is a development server. Do not use it in a production deployment. Use a production WSGI server instead.\n",
      " * Running on http://127.0.0.1:5000\n",
      "Press CTRL+C to quit\n",
      "[2025-03-04 17:24:20,592] ERROR in app: Exception on /recipe/454 [GET]\n",
      "Traceback (most recent call last):\n",
      "  File \"c:\\Users\\Admin\\anaconda3\\envs\\SE-IR\\Lib\\site-packages\\flask\\app.py\", line 1511, in wsgi_app\n",
      "    response = self.full_dispatch_request()\n",
      "               ^^^^^^^^^^^^^^^^^^^^^^^^^^^^\n",
      "  File \"c:\\Users\\Admin\\anaconda3\\envs\\SE-IR\\Lib\\site-packages\\flask\\app.py\", line 919, in full_dispatch_request\n",
      "    rv = self.handle_user_exception(e)\n",
      "         ^^^^^^^^^^^^^^^^^^^^^^^^^^^^^\n",
      "  File \"c:\\Users\\Admin\\anaconda3\\envs\\SE-IR\\Lib\\site-packages\\flask_cors\\extension.py\", line 194, in wrapped_function\n",
      "    return cors_after_request(app.make_response(f(*args, **kwargs)))\n",
      "                                                ^^^^^^^^^^^^^^^^^^\n",
      "  File \"c:\\Users\\Admin\\anaconda3\\envs\\SE-IR\\Lib\\site-packages\\flask\\app.py\", line 917, in full_dispatch_request\n",
      "    rv = self.dispatch_request()\n",
      "         ^^^^^^^^^^^^^^^^^^^^^^^\n",
      "  File \"c:\\Users\\Admin\\anaconda3\\envs\\SE-IR\\Lib\\site-packages\\flask\\app.py\", line 902, in dispatch_request\n",
      "    return self.ensure_sync(self.view_functions[rule.endpoint])(**view_args)  # type: ignore[no-any-return]\n",
      "           ^^^^^^^^^^^^^^^^^^^^^^^^^^^^^^^^^^^^^^^^^^^^^^^^^^^^^^^^^^^^^^^^^\n",
      "  File \"C:\\Users\\Admin\\AppData\\Local\\Temp\\ipykernel_7384\\579564616.py\", line 70, in recipe_detail\n",
      "    res = es_client.get(index=index_name, id=recipe_id)\n",
      "          ^^^^^^^^^^^^^^^^^^^^^^^^^^^^^^^^^^^^^^^^^^^^^\n",
      "  File \"c:\\Users\\Admin\\anaconda3\\envs\\SE-IR\\Lib\\site-packages\\elasticsearch\\_sync\\client\\utils.py\", line 455, in wrapped\n",
      "    return api(*args, **kwargs)\n",
      "           ^^^^^^^^^^^^^^^^^^^^\n",
      "  File \"c:\\Users\\Admin\\anaconda3\\envs\\SE-IR\\Lib\\site-packages\\elasticsearch\\_sync\\client\\__init__.py\", line 2049, in get\n",
      "    return self.perform_request(  # type: ignore[return-value]\n",
      "           ^^^^^^^^^^^^^^^^^^^^^^^^^^^^^^^^^^^^^^^^^^^^^^^^^^^\n",
      "  File \"c:\\Users\\Admin\\anaconda3\\envs\\SE-IR\\Lib\\site-packages\\elasticsearch\\_sync\\client\\_base.py\", line 271, in perform_request\n",
      "    response = self._perform_request(\n",
      "               ^^^^^^^^^^^^^^^^^^^^^^\n",
      "  File \"c:\\Users\\Admin\\anaconda3\\envs\\SE-IR\\Lib\\site-packages\\elasticsearch\\_sync\\client\\_base.py\", line 352, in _perform_request\n",
      "    raise HTTP_EXCEPTIONS.get(meta.status, ApiError)(\n",
      "elasticsearch.NotFoundError: NotFoundError(404, \"{'_index': 'recipes', '_id': '454', 'found': False}\")\n",
      "127.0.0.1 - - [04/Mar/2025 17:24:20] \"GET /recipe/454 HTTP/1.1\" 500 -\n",
      "127.0.0.1 - - [04/Mar/2025 17:24:41] \"GET /search?query=garlic HTTP/1.1\" 200 -\n",
      "[2025-03-04 17:24:47,718] ERROR in app: Exception on /recipe/454 [GET]\n",
      "Traceback (most recent call last):\n",
      "  File \"c:\\Users\\Admin\\anaconda3\\envs\\SE-IR\\Lib\\site-packages\\flask\\app.py\", line 1511, in wsgi_app\n",
      "    response = self.full_dispatch_request()\n",
      "               ^^^^^^^^^^^^^^^^^^^^^^^^^^^^\n",
      "  File \"c:\\Users\\Admin\\anaconda3\\envs\\SE-IR\\Lib\\site-packages\\flask\\app.py\", line 919, in full_dispatch_request\n",
      "    rv = self.handle_user_exception(e)\n",
      "         ^^^^^^^^^^^^^^^^^^^^^^^^^^^^^\n",
      "  File \"c:\\Users\\Admin\\anaconda3\\envs\\SE-IR\\Lib\\site-packages\\flask_cors\\extension.py\", line 194, in wrapped_function\n",
      "    return cors_after_request(app.make_response(f(*args, **kwargs)))\n",
      "                                                ^^^^^^^^^^^^^^^^^^\n",
      "  File \"c:\\Users\\Admin\\anaconda3\\envs\\SE-IR\\Lib\\site-packages\\flask\\app.py\", line 917, in full_dispatch_request\n",
      "    rv = self.dispatch_request()\n",
      "         ^^^^^^^^^^^^^^^^^^^^^^^\n",
      "  File \"c:\\Users\\Admin\\anaconda3\\envs\\SE-IR\\Lib\\site-packages\\flask\\app.py\", line 902, in dispatch_request\n",
      "    return self.ensure_sync(self.view_functions[rule.endpoint])(**view_args)  # type: ignore[no-any-return]\n",
      "           ^^^^^^^^^^^^^^^^^^^^^^^^^^^^^^^^^^^^^^^^^^^^^^^^^^^^^^^^^^^^^^^^^\n",
      "  File \"C:\\Users\\Admin\\AppData\\Local\\Temp\\ipykernel_7384\\579564616.py\", line 70, in recipe_detail\n",
      "    res = es_client.get(index=index_name, id=recipe_id)\n",
      "          ^^^^^^^^^^^^^^^^^^^^^^^^^^^^^^^^^^^^^^^^^^^^^\n",
      "  File \"c:\\Users\\Admin\\anaconda3\\envs\\SE-IR\\Lib\\site-packages\\elasticsearch\\_sync\\client\\utils.py\", line 455, in wrapped\n",
      "    return api(*args, **kwargs)\n",
      "           ^^^^^^^^^^^^^^^^^^^^\n",
      "  File \"c:\\Users\\Admin\\anaconda3\\envs\\SE-IR\\Lib\\site-packages\\elasticsearch\\_sync\\client\\__init__.py\", line 2049, in get\n",
      "    return self.perform_request(  # type: ignore[return-value]\n",
      "           ^^^^^^^^^^^^^^^^^^^^^^^^^^^^^^^^^^^^^^^^^^^^^^^^^^^\n",
      "  File \"c:\\Users\\Admin\\anaconda3\\envs\\SE-IR\\Lib\\site-packages\\elasticsearch\\_sync\\client\\_base.py\", line 271, in perform_request\n",
      "    response = self._perform_request(\n",
      "               ^^^^^^^^^^^^^^^^^^^^^^\n",
      "  File \"c:\\Users\\Admin\\anaconda3\\envs\\SE-IR\\Lib\\site-packages\\elasticsearch\\_sync\\client\\_base.py\", line 352, in _perform_request\n",
      "    raise HTTP_EXCEPTIONS.get(meta.status, ApiError)(\n",
      "elasticsearch.NotFoundError: NotFoundError(404, \"{'_index': 'recipes', '_id': '454', 'found': False}\")\n",
      "127.0.0.1 - - [04/Mar/2025 17:24:47] \"GET /recipe/454 HTTP/1.1\" 500 -\n"
     ]
    }
   ],
   "source": [
    "# Run the Flask app on port 5000\n",
    "app.run(port=5000, debug=False)"
   ]
  },
  {
   "cell_type": "markdown",
   "metadata": {},
   "source": [
    "### Testing Instructions\n",
    "\n",
    "1. **Authentication:** Use a REST client (or cURL) to POST to `/login` with JSON payload, e.g.: \n",
    "   ```json\n",
    "   {\"username\": \"user1\", \"password\": \"password1\"}\n",
    "   ```\n",
    "   You'll receive a token in the response. Use that token in the `Authorization` header for subsequent requests.\n",
    "\n",
    "2. **Search:** GET `/search?query=chicken` with the header `Authorization: <token>` to retrieve matching recipes.\n",
    "\n",
    "3. **Detailed View:** GET `/recipe/<recipe_id>` to fetch full details for a recipe.\n",
    "\n",
    "4. **Bookmarking:** POST to `/bookmark` with JSON payload containing a `recipe_id` and an optional `rating`.\n",
    "\n",
    "5. **Folder Management:** GET or POST to `/folders` to list or create folders.\n",
    "\n",
    "6. **Recommendations:** GET `/recommendations` to retrieve a list of recommended recipes (dummy implementation)."
   ]
  }
 ],
 "metadata": {
  "kernelspec": {
   "display_name": "SE-IR",
   "language": "python",
   "name": "python3"
  },
  "language_info": {
   "codemirror_mode": {
    "name": "ipython",
    "version": 3
   },
   "file_extension": ".py",
   "mimetype": "text/x-python",
   "name": "python",
   "nbconvert_exporter": "python",
   "pygments_lexer": "ipython3",
   "version": "3.12.3"
  }
 },
 "nbformat": 4,
 "nbformat_minor": 2
}
