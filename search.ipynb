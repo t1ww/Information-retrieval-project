{
 "cells": [
  {
   "cell_type": "markdown",
   "metadata": {},
   "source": [
    "# Recipe Search with BM25 and MongoDB\n",
    "\n",
    "This notebook connects to your MongoDB (where your recipes have been loaded), builds a BM25 index over the combined fields (recipe title, ingredients, and instructions), and defines a search function to retrieve matching recipes based on a query."
   ]
  },
  {
   "cell_type": "markdown",
   "metadata": {},
   "source": [
    "## 1. Connect to MongoDB and Load Recipes\n",
    "\n",
    "Make sure that your MongoDB server (mongod) is running. Adjust the database/collection names if needed."
   ]
  },
  {
   "cell_type": "code",
   "execution_count": 1,
   "id": "4d8bdbce-7e6a-48f9-a8c1-2a3559e58b24",
   "metadata": {},
   "outputs": [
    {
     "name": "stdout",
     "output_type": "stream",
     "text": [
      "Loaded 522517 recipes from MongoDB.\n"
     ]
    }
   ],
   "source": [
    "from pymongo import MongoClient\n",
    "\n",
    "# Connect to MongoDB (ensure mongod is running)\n",
    "client = MongoClient(\"mongodb://127.0.0.1:27017/\")\n",
    "db = client['food_recipes']\n",
    "\n",
    "# Load recipes from MongoDB\n",
    "recipes_collection = db['recipes']\n",
    "recipes = list(recipes_collection.find({}))\n",
    "print(f\"Loaded {len(recipes)} recipes from MongoDB.\")"
   ]
  },
  {
   "cell_type": "markdown",
   "metadata": {},
   "source": [
    "## 2. Download NLTK Data\n",
    "\n",
    "We need NLTK’s tokenizer. (You can skip this if it’s already downloaded.)"
   ]
  },
  {
   "cell_type": "code",
   "execution_count": 2,
   "id": "e40bdb96-39d7-4e33-bb3c-ff2ac4c24a1a",
   "metadata": {},
   "outputs": [
    {
     "name": "stderr",
     "output_type": "stream",
     "text": [
      "[nltk_data] Downloading package punkt to\n",
      "[nltk_data]     C:\\Users\\Admin\\AppData\\Roaming\\nltk_data...\n",
      "[nltk_data]   Package punkt is already up-to-date!\n"
     ]
    },
    {
     "data": {
      "text/plain": [
       "True"
      ]
     },
     "execution_count": 2,
     "metadata": {},
     "output_type": "execute_result"
    }
   ],
   "source": [
    "import nltk\n",
    "nltk.download('punkt')"
   ]
  },
  {
   "cell_type": "markdown",
   "metadata": {},
   "source": [
    "## 3. Define the BM25 Class\n",
    "\n",
    "This class builds an inverted index and computes BM25 scores."
   ]
  },
  {
   "cell_type": "code",
   "execution_count": 3,
   "id": "82d0d6ef-2129-41a4-b146-259086ea7882",
   "metadata": {},
   "outputs": [],
   "source": [
    "import math\n",
    "from collections import defaultdict\n",
    "from nltk.tokenize import word_tokenize\n",
    "\n",
    "class BM25:\n",
    "    def __init__(self, documents, k1=1.5, b=0.75):\n",
    "        self.documents = documents  # list of text documents\n",
    "        self.k1 = k1\n",
    "        self.b = b\n",
    "        self.N = len(documents)\n",
    "        self.doc_lengths = []\n",
    "        self.avg_doc_length = 0\n",
    "        self.index = defaultdict(list)  # mapping word -> list of (doc_index, term_frequency)\n",
    "        self.idf = {}\n",
    "\n",
    "        self._build_index()\n",
    "\n",
    "    def _build_index(self):\n",
    "        \"\"\"Build the inverted index and compute IDF values.\"\"\"\n",
    "        doc_freqs = defaultdict(int)\n",
    "        total_length = 0\n",
    "\n",
    "        for i, doc in enumerate(self.documents):\n",
    "            words = word_tokenize(doc.lower())\n",
    "            self.doc_lengths.append(len(words))\n",
    "            total_length += len(words)\n",
    "            word_counts = defaultdict(int)\n",
    "            for word in words:\n",
    "                word_counts[word] += 1\n",
    "            for word, tf in word_counts.items():\n",
    "                doc_freqs[word] += 1\n",
    "                self.index[word].append((i, tf))\n",
    "\n",
    "        self.avg_doc_length = total_length / self.N if self.N > 0 else 0\n",
    "\n",
    "        for word, df in doc_freqs.items():\n",
    "            self.idf[word] = math.log((self.N - df + 0.5) / (df + 0.5) + 1)\n",
    "\n",
    "    def search(self, query, top_n=5):\n",
    "        \"\"\"Score the documents given a query and return the top_n document indices and scores.\"\"\"\n",
    "        query_words = word_tokenize(query.lower())\n",
    "        scores = defaultdict(float)\n",
    "\n",
    "        for word in query_words:\n",
    "            if word not in self.index:\n",
    "                continue\n",
    "\n",
    "            idf = self.idf.get(word, 0)\n",
    "            for doc_id, tf in self.index[word]:\n",
    "                dl = self.doc_lengths[doc_id]\n",
    "                score = idf * ((tf * (self.k1 + 1)) /\n",
    "                               (tf + self.k1 * (1 - self.b + self.b * (dl / self.avg_doc_length))))\n",
    "                scores[doc_id] += score\n",
    "\n",
    "        return sorted(scores.items(), key=lambda x: x[1], reverse=True)[:top_n]\n",
    "\n",
    "    def save(self, index_file=\"bm25_index.pkl\"):\n",
    "        import pickle\n",
    "        with open(index_file, \"wb\") as f:\n",
    "            pickle.dump({\n",
    "                \"index\": self.index,\n",
    "                \"doc_lengths\": self.doc_lengths,\n",
    "                \"avg_doc_length\": self.avg_doc_length,\n",
    "                \"idf\": self.idf,\n",
    "                \"N\": self.N,\n",
    "                \"documents\": self.documents,\n",
    "                \"k1\": self.k1,\n",
    "                \"b\": self.b,\n",
    "            }, f)\n",
    "\n",
    "    @staticmethod\n",
    "    def load(index_file=\"bm25_index.pkl\"):\n",
    "        import pickle\n",
    "        with open(index_file, \"rb\") as f:\n",
    "            data = pickle.load(f)\n",
    "        bm25 = BM25(data[\"documents\"], k1=data[\"k1\"], b=data[\"b\"])\n",
    "        bm25.index = data[\"index\"]\n",
    "        bm25.doc_lengths = data[\"doc_lengths\"]\n",
    "        bm25.avg_doc_length = data[\"avg_doc_length\"]\n",
    "        bm25.idf = data[\"idf\"]\n",
    "        bm25.N = data[\"N\"]\n",
    "        return bm25\n"
   ]
  },
  {
   "cell_type": "markdown",
   "metadata": {},
   "source": [
    "## 4. Build BM25 Documents\n",
    "\n",
    "Concatenate the recipe fields (adjust the keys if needed) so that BM25 can index the combined text."
   ]
  },
  {
   "cell_type": "code",
   "execution_count": 4,
   "id": "a2fa7b86-3a05-4d9f-93a4-100f3c3d4eb0",
   "metadata": {},
   "outputs": [
    {
     "name": "stdout",
     "output_type": "stream",
     "text": [
      "Built BM25 documents for 522517 recipes.\n"
     ]
    }
   ],
   "source": [
    "# Concatenate title, ingredients, and instructions for each recipe\n",
    "documents = []\n",
    "recipe_ids = []  \n",
    "for recipe in recipes:\n",
    "    text = \"{} {} {}\".format(recipe.get('title', ''), recipe.get('ingredients', ''), recipe.get('instructions', ''))\n",
    "    documents.append(text)\n",
    "    recipe_ids.append(recipe['_id'])\n",
    "\n",
    "print(f\"Built BM25 documents for {len(documents)} recipes.\")"
   ]
  },
  {
   "cell_type": "markdown",
   "metadata": {},
   "source": [
    "## 5. Build the BM25 Index"
   ]
  },
  {
   "cell_type": "code",
   "execution_count": 5,
   "id": "b88c0bf8-8de6-4a37-9fc8-7f5b21af2dce",
   "metadata": {},
   "outputs": [
    {
     "name": "stdout",
     "output_type": "stream",
     "text": [
      "BM25 index built.\n"
     ]
    }
   ],
   "source": [
    "bm25_index = BM25(documents)\n",
    "print(\"BM25 index built.\")"
   ]
  },
  {
   "cell_type": "markdown",
   "metadata": {},
   "source": [
    "## 6. Define the Recipe Search Function\n",
    "\n",
    "This function takes a query, retrieves the top BM25-scored document indices, and then maps them back to the corresponding MongoDB recipes. The BM25 score is added to each recipe for inspection."
   ]
  },
  {
   "cell_type": "code",
   "execution_count": 6,
   "id": "5ce2cfb3-3e12-4e59-a254-dfe7a3b47ea4",
   "metadata": {},
   "outputs": [],
   "source": [
    "def search_recipes(query, top_n=5):\n",
    "    \"\"\"Search for recipes using BM25 and return matching recipes with scores.\"\"\"\n",
    "    # Get BM25 results: a list of (document index, score) pairs\n",
    "    results = bm25_index.search(query, top_n=top_n)\n",
    "    \n",
    "    # Map BM25 results back to MongoDB _id along with scores\n",
    "    matched = [(recipe_ids[doc_idx], score) for doc_idx, score in results]\n",
    "    matched_ids = [m[0] for m in matched]\n",
    "    \n",
    "    # Retrieve the full recipe documents\n",
    "    matched_recipes = list(recipes_collection.find({\"_id\": {\"$in\": matched_ids}}))\n",
    "    \n",
    "    # Add the BM25 score to each retrieved recipe\n",
    "    for recipe in matched_recipes:\n",
    "        for rid, score in matched:\n",
    "            if recipe['_id'] == rid:\n",
    "                recipe['bm25_score'] = score\n",
    "                break\n",
    "    return matched_recipes\n"
   ]
  },
  {
   "cell_type": "markdown",
   "metadata": {},
   "source": [
    "## 7. Test the Search Function\n",
    "\n",
    "Try a sample query. If you get empty results, try a more common word (like `'salt'`) and inspect the BM25 vocabulary."
   ]
  },
  {
   "cell_type": "code",
   "execution_count": 9,
   "id": "cdcd4746-bb73-4f86-8964-ecb14f0d2d66",
   "metadata": {},
   "outputs": [
    {
     "name": "stdout",
     "output_type": "stream",
     "text": [
      "Search results for query 'sauce':\n",
      "\n",
      "Sample BM25 vocabulary tokens: []\n"
     ]
    }
   ],
   "source": [
    "query = \"sauce\"\n",
    "results = search_recipes(query, top_n=5)\n",
    "print(f\"Search results for query '{query}':\")\n",
    "for res in results:\n",
    "    title = res.get('title', 'No Title')\n",
    "    score = res.get('bm25_score', 0)\n",
    "    print(f\"{title} - BM25 Score: {score:.3f}\")\n",
    "\n",
    "# Debugging: Print a sample of the BM25 vocabulary tokens\n",
    "print(\"\\nSample BM25 vocabulary tokens:\", list(bm25_index.idf.keys())[:20])"
   ]
  }
 ],
 "metadata": {
  "kernelspec": {
   "display_name": "SE-IR",
   "language": "python",
   "name": "python3"
  },
  "language_info": {
   "codemirror_mode": {
    "name": "ipython",
    "version": 3
   },
   "file_extension": ".py",
   "mimetype": "text/x-python",
   "name": "python",
   "nbconvert_exporter": "python",
   "pygments_lexer": "ipython3",
   "version": "3.12.3"
  }
 },
 "nbformat": 4,
 "nbformat_minor": 2
}
